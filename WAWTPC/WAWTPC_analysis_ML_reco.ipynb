{
    "cells": [
        {
            "cell_type": "markdown",
            "id": "b55d9992-62d7-463e-8824-729bfa372d36",
            "metadata": {
                "id": "b55d9992-62d7-463e-8824-729bfa372d36"
            },
            "source": [
                "\n",
                "\n",
                "## Workspace setup"
            ]
        },
        {
            "cell_type": "code",
            "source": [
                "from google.colab import drive\n",
                "drive.mount('/content/drive')"
            ],
            "metadata": {
                "colab": {
                    "base_uri": "https://localhost:8080/"
                },
                "executionInfo": {
                    "status": "ok",
                    "timestamp": 1699476016513,
                    "user_tz": -60,
                    "elapsed": 15061,
                    "user": {
                        "displayName": "Maciej Bajor",
                        "userId": "12724909867748285451"
                    }
                },
                "outputId": "99522e6e-7e21-4dc6-f347-f908eeac033c",
                "id": "tKYHdZzgxNSO"
            },
            "execution_count": null,
            "outputs": [
                {
                    "output_type": "stream",
                    "name": "stdout",
                    "text": [
                        "Mounted at /content/drive\n"
                    ]
                }
            ],
            "id": "tKYHdZzgxNSO"
        },
        {
            "cell_type": "code",
            "source": [
                "!pip install uproot"
            ],
            "metadata": {
                "colab": {
                    "base_uri": "https://localhost:8080/"
                },
                "executionInfo": {
                    "status": "ok",
                    "timestamp": 1699476032047,
                    "user_tz": -60,
                    "elapsed": 13673,
                    "user": {
                        "displayName": "Maciej Bajor",
                        "userId": "12724909867748285451"
                    }
                },
                "outputId": "92bfd36e-f26b-438b-ea0d-bdaeb904c21c",
                "id": "xeUiv-hZxNSP"
            },
            "execution_count": null,
            "outputs": [
                {
                    "output_type": "stream",
                    "name": "stdout",
                    "text": [
                        "Collecting uproot\n",
                        "  Downloading uproot-5.1.2-py3-none-any.whl (342 kB)\n",
                        "\u001b[2K     \u001b[90m━━━━━━━━━━━━━━━━━━━━━━━━━━━━━━━━━━━━━━━━\u001b[0m \u001b[32m342.7/342.7 kB\u001b[0m \u001b[31m3.8 MB/s\u001b[0m eta \u001b[36m0:00:00\u001b[0m\n",
                        "\u001b[?25hCollecting awkward>=2.4.6 (from uproot)\n",
                        "  Downloading awkward-2.4.9-py3-none-any.whl (718 kB)\n",
                        "\u001b[2K     \u001b[90m━━━━━━━━━━━━━━━━━━━━━━━━━━━━━━━━━━━━━━━━\u001b[0m \u001b[32m718.6/718.6 kB\u001b[0m \u001b[31m12.6 MB/s\u001b[0m eta \u001b[36m0:00:00\u001b[0m\n",
                        "\u001b[?25hRequirement already satisfied: numpy in /usr/local/lib/python3.10/dist-packages (from uproot) (1.23.5)\n",
                        "Requirement already satisfied: packaging in /usr/local/lib/python3.10/dist-packages (from uproot) (23.2)\n",
                        "Requirement already satisfied: typing-extensions>=4.1.0 in /usr/local/lib/python3.10/dist-packages (from uproot) (4.5.0)\n",
                        "Collecting awkward-cpp==25 (from awkward>=2.4.6->uproot)\n",
                        "  Downloading awkward_cpp-25-cp310-cp310-manylinux_2_17_x86_64.manylinux2014_x86_64.whl (1.0 MB)\n",
                        "\u001b[2K     \u001b[90m━━━━━━━━━━━━━━━━━━━━━━━━━━━━━━━━━━━━━━━━\u001b[0m \u001b[32m1.0/1.0 MB\u001b[0m \u001b[31m17.3 MB/s\u001b[0m eta \u001b[36m0:00:00\u001b[0m\n",
                        "\u001b[?25hRequirement already satisfied: importlib-metadata>=4.13.0 in /usr/local/lib/python3.10/dist-packages (from awkward>=2.4.6->uproot) (6.8.0)\n",
                        "Requirement already satisfied: zipp>=0.5 in /usr/local/lib/python3.10/dist-packages (from importlib-metadata>=4.13.0->awkward>=2.4.6->uproot) (3.17.0)\n",
                        "Installing collected packages: awkward-cpp, awkward, uproot\n",
                        "Successfully installed awkward-2.4.9 awkward-cpp-25 uproot-5.1.2\n"
                    ]
                }
            ],
            "id": "xeUiv-hZxNSP"
        },
        {
            "cell_type": "code",
            "source": [
                "!cp drive/MyDrive/ZPS/WAWTPC/*.py /content"
            ],
            "metadata": {
                "id": "kba0TlxoxNSP"
            },
            "execution_count": null,
            "outputs": [],
            "id": "kba0TlxoxNSP"
        },
        {
            "cell_type": "code",
            "execution_count": null,
            "id": "2ea5548e-ff6f-4ca6-b7be-5c71b94eba15",
            "metadata": {
                "tags": [],
                "id": "2ea5548e-ff6f-4ca6-b7be-5c71b94eba15"
            },
            "outputs": [],
            "source": [
                "from datetime import datetime\n",
                "import uproot\n",
                "from functools import partial\n",
                "import numpy as np\n",
                "import tensorflow as tf\n",
                "import importlib"
            ]
        },
        {
            "cell_type": "markdown",
            "id": "cec2e5f8-c04e-4754-9011-e1bb4e0b9c2f",
            "metadata": {
                "id": "cec2e5f8-c04e-4754-9011-e1bb4e0b9c2f"
            },
            "source": [
                "## Training dataset preparation"
            ]
        },
        {
            "cell_type": "code",
            "execution_count": null,
            "id": "bbd1ad60-1949-4e84-93c9-ffdb499033bf",
            "metadata": {
                "tags": [],
                "id": "bbd1ad60-1949-4e84-93c9-ffdb499033bf"
            },
            "outputs": [],
            "source": [
                "import io_functions as io\n",
                "importlib.reload(io)\n",
                "\n",
                "import plotting_functions as plf\n",
                "importlib.reload(plf)\n",
                "\n",
                "batchSize = 18\n",
                "\n",
                "#dataPath = '/scratch_hdd/akalinow/ELITPC/data/PythonAnalysis/E_11_sigma_2/'\n",
                "#test_files = [dataPath+'out_C_arr_8.root:TPCData']\n",
                "dataPath = 'drive/MyDrive/ZPS/'\n",
                "test_files = [dataPath+'EventTPC_2022-04-12T08:03:44.531_0000.root:TPCData'] # replace with output file name from python analysis\n",
                "\n",
                "datasetGenerator = partial(io.generator, files=test_files, batchSize=batchSize, features_only=True)\n",
                "\n",
                "test_dataset = tf.data.Dataset.from_generator(\n",
                "     datasetGenerator,\n",
                "     output_signature=(\n",
                "         tf.TensorSpec(shape=(batchSize,) + (io.projections.shape), dtype=tf.float32),\n",
                "          tf.TensorSpec(shape=(batchSize,9), dtype=tf.float32)))"
            ]
        },
        {
            "cell_type": "code",
            "execution_count": null,
            "id": "673bfe31-cc53-4d78-9841-fbf8ef72f86b",
            "metadata": {
                "tags": [],
                "id": "673bfe31-cc53-4d78-9841-fbf8ef72f86b"
            },
            "outputs": [],
            "source": [
                "for aBatch in test_dataset.take(5):\n",
                "    plf.plotEvent(aBatch, model=None)\n",
                "    pass"
            ]
        },
        {
            "cell_type": "markdown",
            "id": "66cfbe0e-5e08-4d62-9c32-d8056b5577e5",
            "metadata": {
                "id": "66cfbe0e-5e08-4d62-9c32-d8056b5577e5"
            },
            "source": [
                "## Model performance on training data.\n",
                "\n",
                "Fill Pandas DataFrame with true and response values."
            ]
        },
        {
            "cell_type": "code",
            "execution_count": null,
            "id": "c3943ae1-a41a-404c-b6b3-8df8f199363b",
            "metadata": {
                "tags": [],
                "id": "c3943ae1-a41a-404c-b6b3-8df8f199363b"
            },
            "outputs": [],
            "source": [
                "%%time\n",
                "import utility_functions as utils\n",
                "importlib.reload(utils)\n",
                "\n",
                "model_path = \"drive/MyDrive/ZPS/training/modelfolder\" # replace modelfolder to match the model\n",
                "\n",
                "model = tf.keras.models.load_model(model_path)\n",
                "\n",
                "df = utils.df\n",
                "\n",
                "for aBatch in test_dataset:\n",
                "    df = utils.fillPandasDataset(aBatch, df, model)\n",
                "\n",
                "for aBatch in test_dataset.take(5):\n",
                "    plf.plotEvent(aBatch, model=model)\n",
                "\n",
                "df.describe()"
            ]
        },
        {
            "cell_type": "markdown",
            "id": "db910448-d47c-4bfc-8b44-87622becec17",
            "metadata": {
                "id": "db910448-d47c-4bfc-8b44-87622becec17"
            },
            "source": [
                "### Resolution plots"
            ]
        },
        {
            "cell_type": "code",
            "execution_count": null,
            "id": "17888e9c-9954-4435-a6e3-64d64f840579",
            "metadata": {
                "tags": [],
                "id": "17888e9c-9954-4435-a6e3-64d64f840579"
            },
            "outputs": [],
            "source": [
                "import plotting_functions as plf\n",
                "importlib.reload(plf)\n",
                "\n",
                "#plf.controlPlots(df)\n",
                "plf.plotEndPointRes(df=df, edge=\"Start\", partIdx=1)\n",
                "plf.plotEndPointRes(df=df, edge=\"Stop\", partIdx=1)\n",
                "\n",
                "plf.plotEndPointRes(df=df, edge=\"Start\", partIdx=2)\n",
                "plf.plotEndPointRes(df=df, edge=\"Stop\", partIdx=2)\n",
                "\n",
                "plf.plotLengthPull(df, partIdx=1)\n",
                "plf.plotLengthPull(df, partIdx=2)\n",
                "plf.plotLengthPullEvolution(df)\n",
                "plf.plotOpeningAngleCos(df)"
            ]
        },
        {
            "cell_type": "code",
            "execution_count": null,
            "id": "47b73384-0ef5-4e42-bbb8-a0b7ebdd66ac",
            "metadata": {
                "tags": [],
                "id": "47b73384-0ef5-4e42-bbb8-a0b7ebdd66ac"
            },
            "outputs": [],
            "source": [
                "mask = np.abs(df[\"GEN_StartPosX\"] - df[\"RECO_StartPosX\"])<3\n",
                "df_filtered = df[mask]\n",
                "\n",
                "mask = np.abs(df_filtered[\"GEN_StartPosY\"] - df_filtered[\"RECO_StartPosY\"])<3\n",
                "df_filtered = df_filtered[mask]\n",
                "\n",
                "mask = np.abs(df_filtered[\"GEN_StopPosX_Part1\"] - df_filtered[\"RECO_StopPosX_Part1\"])<10\n",
                "df_filtered = df_filtered[mask]\n",
                "\n",
                "print(df_filtered.describe())\n",
                "\n",
                "plf.plotEndPointRes(df=df_filtered, edge=\"Start\", partIdx=1)\n",
                "plf.plotEndPointRes(df=df_filtered, edge=\"Stop\", partIdx=1)\n",
                "\n",
                "plf.plotEndPointRes(df=df_filtered, edge=\"Start\", partIdx=2)\n",
                "plf.plotEndPointRes(df=df_filtered, edge=\"Stop\", partIdx=2)\n",
                "\n",
                "plf.plotLengthPull(df_filtered, partIdx=1)\n",
                "plf.plotLengthPull(df_filtered, partIdx=2)\n",
                "plf.plotLengthPullEvolution(df_filtered)\n",
                "plf.plotOpeningAngleCos(df_filtered)"
            ]
        }
    ],
    "metadata": {
        "kernelspec": {
            "display_name": "Python 3 (ipykernel)",
            "language": "python",
            "name": "python3"
        },
        "language_info": {
            "codemirror_mode": {
                "name": "ipython",
                "version": 3
            },
            "file_extension": ".py",
            "mimetype": "text/x-python",
            "name": "python",
            "nbconvert_exporter": "python",
            "pygments_lexer": "ipython3",
            "version": "3.8.10"
        },
        "colab": {
            "provenance": []
        }
    },
    "nbformat": 4,
    "nbformat_minor": 5
}