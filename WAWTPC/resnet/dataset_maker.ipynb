{
  "cells": [
    {
      "cell_type": "code",
      "source": [
        "!wget https://raw.githubusercontent.com/mwbaj/MachineLearning/ZPS_2023_winter/WAWTPC/io_functions.py\n",
        "!pip install uproot"
      ],
      "metadata": {
        "colab": {
          "base_uri": "https://localhost:8080/"
        },
        "id": "y7lVT9xxpYBx",
        "outputId": "8831f2ed-6646-46fa-871c-ed847d46c673"
      },
      "execution_count": null,
      "outputs": [
        {
          "output_type": "stream",
          "name": "stdout",
          "text": [
            "--2023-11-25 15:18:55--  https://raw.githubusercontent.com/mwbaj/MachineLearning/ZPS_2023_winter/WAWTPC/io_functions.py\n",
            "Resolving raw.githubusercontent.com (raw.githubusercontent.com)... 185.199.111.133, 185.199.108.133, 185.199.109.133, ...\n",
            "Connecting to raw.githubusercontent.com (raw.githubusercontent.com)|185.199.111.133|:443... connected.\n",
            "HTTP request sent, awaiting response... 200 OK\n",
            "Length: 7638 (7.5K) [text/plain]\n",
            "Saving to: ‘io_functions.py.3’\n",
            "\n",
            "\rio_functions.py.3     0%[                    ]       0  --.-KB/s               \rio_functions.py.3   100%[===================>]   7.46K  --.-KB/s    in 0s      \n",
            "\n",
            "2023-11-25 15:18:55 (40.5 MB/s) - ‘io_functions.py.3’ saved [7638/7638]\n",
            "\n",
            "Requirement already satisfied: uproot in /usr/local/lib/python3.10/dist-packages (5.1.2)\n",
            "Requirement already satisfied: awkward>=2.4.6 in /usr/local/lib/python3.10/dist-packages (from uproot) (2.5.0)\n",
            "Requirement already satisfied: numpy in /usr/local/lib/python3.10/dist-packages (from uproot) (1.23.5)\n",
            "Requirement already satisfied: packaging in /usr/local/lib/python3.10/dist-packages (from uproot) (23.2)\n",
            "Requirement already satisfied: typing-extensions>=4.1.0 in /usr/local/lib/python3.10/dist-packages (from uproot) (4.5.0)\n",
            "Requirement already satisfied: awkward-cpp==26 in /usr/local/lib/python3.10/dist-packages (from awkward>=2.4.6->uproot) (26)\n",
            "Requirement already satisfied: importlib-metadata>=4.13.0 in /usr/local/lib/python3.10/dist-packages (from awkward>=2.4.6->uproot) (6.8.0)\n",
            "Requirement already satisfied: zipp>=0.5 in /usr/local/lib/python3.10/dist-packages (from importlib-metadata>=4.13.0->awkward>=2.4.6->uproot) (3.17.0)\n"
          ]
        }
      ]
    },
    {
      "cell_type": "code",
      "execution_count": null,
      "metadata": {
        "colab": {
          "base_uri": "https://localhost:8080/"
        },
        "id": "q4H-N0q-KkFD",
        "outputId": "c954c2a8-0bcc-4d67-d700-34e23facc05e"
      },
      "outputs": [
        {
          "output_type": "stream",
          "name": "stdout",
          "text": [
            "Drive already mounted at /content/drive; to attempt to forcibly remount, call drive.mount(\"/content/drive\", force_remount=True).\n"
          ]
        }
      ],
      "source": [
        "import numpy as np\n",
        "from numba import jit\n",
        "from pathlib import Path\n",
        "import numpy as np\n",
        "import matplotlib.pyplot as plt\n",
        "from google.colab import drive\n",
        "import tensorflow as tf\n",
        "from tensorflow.python.ops.numpy_ops import np_config\n",
        "import tensorflow_datasets as tfds\n",
        "import io_functions as io\n",
        "from tensorflow.data import Dataset, TFRecordDataset\n",
        "from tensorflow.io import TFRecordWriter, TFRecordOptions\n",
        "from tensorflow.train import BytesList, FloatList, Int64List\n",
        "from tensorflow.train import Example, Features, Feature\n",
        "from multiprocessing import Process, Queue\n",
        "from os.path import isfile\n",
        "\n",
        "\n",
        "np_config.enable_numpy_behavior()\n",
        "drive.mount('/content/drive')\n",
        "dataPath = 'drive/MyDrive/ZPS/simulated_data/'"
      ]
    },
    {
      "cell_type": "code",
      "source": [
        "def _bytes_feature(value):\n",
        "  \"\"\"Returns a bytes_list from a string / byte.\"\"\"\n",
        "  if isinstance(value, type(tf.constant(0))):\n",
        "    value = value.numpy() # BytesList won't unpack a string from an EagerTensor.\n",
        "  return tf.train.Feature(bytes_list=tf.train.BytesList(value=[value]))\n",
        "\n",
        "def serialize(charge_array, target):\n",
        "  feature = {'myChargeArray' : _bytes_feature(tf.io.serialize_tensor(charge_array)),\n",
        "             'target' : _bytes_feature(tf.io.serialize_tensor(target))}\n",
        "  example = tf.train.Example(features=tf.train.Features(feature=feature))\n",
        "  return example.SerializeToString()\n",
        "\n",
        "def XYZtoUVWT(data):\n",
        "    referencePoint = tf.constant([-138.9971, 98.25])\n",
        "    phi = np.pi/6.0\n",
        "    stripPitch = 1.5\n",
        "    f = 1.0/25*6.46\n",
        "    u = -(data[:, 1]-99.75)\n",
        "    v = (data[:, 0]-referencePoint[0]) * np.cos(phi) - (data[:, 1]-referencePoint[1]) * np.sin(phi)\n",
        "    w = (data[:, 0]-referencePoint[0]) * np.cos(-phi) - (data[:, 1]-referencePoint[1]) * np.sin(-phi) + 98.75\n",
        "    t = data[:, 2]/f + 256\n",
        "    u/=stripPitch\n",
        "    v/=stripPitch\n",
        "    w/=stripPitch\n",
        "    return tf.stack([u,v,w,t], axis=0).T\n",
        "\n",
        "def conversion(filename, queue):\n",
        "    options = TFRecordOptions(compression_type='GZIP')\n",
        "    writer = TFRecordWriter(filename, options=options)\n",
        "    scale = 100\n",
        "    n_projections = 3\n",
        "    while True:\n",
        "        item = queue.get()\n",
        "        if item == None:\n",
        "            break\n",
        "\n",
        "        myChargeArray, target = item\n",
        "        charge_array= io.proc_features(myChargeArray)\n",
        "\n",
        "        uvwt_1 = XYZtoUVWT(scale*target[:, 0:3])\n",
        "        uvwt_2 = XYZtoUVWT(scale*target[:, 3:6])\n",
        "        uvwt_3 = XYZtoUVWT(scale*target[:, 6:9])\n",
        "\n",
        "        for projection in range(n_projections):\n",
        "          points = tf.stack([\n",
        "              uvwt_1[:, 3], uvwt_1[:, projection],\n",
        "              uvwt_2[:, 3], uvwt_2[:, projection],\n",
        "              uvwt_3[:, 3], uvwt_3[:, projection]\n",
        "              ]).T\n",
        "          example = serialize(charge_array[:, :, :, projection], points)\n",
        "          writer.write(example)"
      ],
      "metadata": {
        "id": "uxAMggC1nHhJ"
      },
      "execution_count": null,
      "outputs": []
    },
    {
      "cell_type": "code",
      "source": [
        "def process_file(output_files, datasetGenerator):\n",
        "  nFiles = len(output_files)\n",
        "  for file in output_files:\n",
        "      if isfile(file):\n",
        "          raise Exception('output file already exists')\n",
        "\n",
        "  if __name__ == '__main__':\n",
        "      processes = []\n",
        "      q = Queue(2*nFiles)\n",
        "\n",
        "      for name in output_files:\n",
        "          p = Process(target=conversion, args=(name, q))\n",
        "          processes.append(p)\n",
        "          p.start()\n",
        "          print(p.name + ' started')\n",
        "\n",
        "      counter = 0\n",
        "      for item in datasetGenerator:\n",
        "          q.put(item)\n",
        "          counter+=1\n",
        "          if counter%100 == 0:\n",
        "              print(f'read {counter} batches')\n",
        "\n",
        "      for _ in range(nFiles):\n",
        "          q.put(None)\n",
        "\n",
        "      for p in processes:\n",
        "          p.join()\n",
        "          print(p.name + ' done')"
      ],
      "metadata": {
        "id": "zLr14QCjEeU1"
      },
      "execution_count": null,
      "outputs": []
    },
    {
      "cell_type": "code",
      "source": [
        "input_files = [dataPath+'out_random_sigma2k2mm.root:TPCData']\n",
        "batchSize = 5\n",
        "nFiles = 5\n",
        "output_files = [dataPath + 'test/testset/' + f\"out_random_sigma2k2mm-part-{i}.tfrecord\" for i in range(nFiles)]\n",
        "datasetGenerator = io.minimal_generator(files=input_files, batchSize=batchSize)\n",
        "\n",
        "process_file(output_files, datasetGenerator)"
      ],
      "metadata": {
        "colab": {
          "base_uri": "https://localhost:8080/"
        },
        "id": "WJHzEJGMnaSj",
        "outputId": "7b50bcf1-f307-4bce-dbfe-25e0139f9d28"
      },
      "execution_count": null,
      "outputs": [
        {
          "output_type": "stream",
          "name": "stdout",
          "text": [
            "Process-25 started\n",
            "Process-26 started\n",
            "Process-27 started\n",
            "Process-28 started\n",
            "Process-29 started\n",
            "read 100 batches\n",
            "read 200 batches\n",
            "read 300 batches\n",
            "read 400 batches\n",
            "Process-25 done\n",
            "Process-26 done\n",
            "Process-27 done\n",
            "Process-28 done\n",
            "Process-29 done\n"
          ]
        }
      ]
    },
    {
      "cell_type": "code",
      "source": [
        "dataPath = 'drive/MyDrive/ZPS/simulated_data/'\n",
        "input_files = [dataPath+'out_random_sigma10k.root:TPCData']\n",
        "batchSize = 5\n",
        "nFiles = 5 # number of output files, equal to number of processes\n",
        "output_files = [dataPath + 'test/trainset/' + f\"out_random_sigma10k-part-{i}.tfrecord\" for i in range(nFiles)]\n",
        "datasetGenerator = io.minimal_generator(files=input_files, batchSize=batchSize)\n",
        "\n",
        "process_file(output_files, datasetGenerator)"
      ],
      "metadata": {
        "colab": {
          "base_uri": "https://localhost:8080/"
        },
        "id": "V6A3ydDeEsTJ",
        "outputId": "d7e05f0f-8fca-4c3e-81be-510c7d2df43c"
      },
      "execution_count": null,
      "outputs": [
        {
          "output_type": "stream",
          "name": "stdout",
          "text": [
            "Process-35 started\n",
            "Process-36 started\n",
            "Process-37 started\n",
            "Process-38 started\n",
            "Process-39 started\n",
            "read 100 batches\n",
            "read 200 batches\n",
            "read 300 batches\n",
            "read 400 batches\n",
            "read 500 batches\n",
            "read 600 batches\n",
            "read 700 batches\n",
            "read 800 batches\n",
            "read 900 batches\n",
            "read 1000 batches\n",
            "read 1100 batches\n",
            "read 1200 batches\n",
            "read 1300 batches\n",
            "read 1400 batches\n",
            "read 1500 batches\n",
            "read 1600 batches\n",
            "read 1700 batches\n",
            "read 1800 batches\n",
            "read 1900 batches\n",
            "read 2000 batches\n",
            "Process-35 done\n",
            "Process-36 done\n",
            "Process-37 done\n",
            "Process-38 done\n",
            "Process-39 done\n"
          ]
        }
      ]
    },
    {
      "cell_type": "markdown",
      "source": [
        "# Read the data"
      ],
      "metadata": {
        "id": "FuqAi5d0Etsx"
      }
    },
    {
      "cell_type": "code",
      "source": [
        "filenames = [dataPath + 'test/' + f\"out_random_sigma2k2mm-part-{i}.tfrecord\" for i in range(nFiles)]\n",
        "train_dataset = tf.data.TFRecordDataset(filenames, compression_type='GZIP', num_parallel_reads=5)\n",
        "test_dataset = tf.data.TFRecordDataset(dataPath +\"folder/\"+'out_random_sigma2k2mm.tfrecord', compression_type='GZIP')\n",
        "# Create a description of the features.\n",
        "feature_description = {\n",
        "    'myChargeArray': tf.io.FixedLenFeature([], tf.string),\n",
        "    'target': tf.io.FixedLenFeature([], tf.string),\n",
        "\n",
        "}\n",
        "\n",
        "def _parse_function(example_proto):\n",
        "  # Parse the input `tf.train.Example` proto using the dictionary above.\n",
        "    parsed_features = tf.io.parse_single_example(example_proto, feature_description)\n",
        "    charge, target = parsed_features['myChargeArray'], parsed_features['target']\n",
        "    # decode from bytes\n",
        "    charge = tf.io.parse_tensor(charge, tf.float64)\n",
        "    target = tf.io.parse_tensor(target, tf.float64)\n",
        "\n",
        "    return charge, target\n",
        "\n",
        "\n",
        "train_dataset = train_dataset.map(_parse_function, num_parallel_calls=tf.data.AUTOTUNE)\n",
        "test_dataset = test_dataset.map(_parse_function, num_parallel_calls=tf.data.AUTOTUNE)\n",
        "\n",
        "train_dataset = train_dataset.unbatch()\n",
        "test_dataset = test_dataset.unbatch()\n",
        "\n",
        "train_dataset = train_dataset.batch(batchSize)\n",
        "test_dataset = test_dataset.batch(batchSize)"
      ],
      "metadata": {
        "id": "Sj83JHNnqMFs"
      },
      "execution_count": null,
      "outputs": []
    },
    {
      "cell_type": "code",
      "source": [
        "for image, target in train_dataset.take(1):\n",
        "  print(image.shape)\n",
        "  print(target.shape)\n",
        "  points = target.reshape(-1, 3, 2)\n",
        "  plt.imshow(image[0, :, :])\n",
        "  plt.scatter(points[0, :, 0], points[0, :, 1])"
      ],
      "metadata": {
        "colab": {
          "base_uri": "https://localhost:8080/",
          "height": 349
        },
        "id": "XQ-_7KCCzvUF",
        "outputId": "f6535b9b-e18a-4920-b230-38e13395bc48"
      },
      "execution_count": null,
      "outputs": [
        {
          "output_type": "stream",
          "name": "stdout",
          "text": [
            "(5, 256, 512)\n",
            "(5, 6)\n"
          ]
        },
        {
          "output_type": "display_data",
          "data": {
            "text/plain": [
              "<Figure size 640x480 with 1 Axes>"
            ],
            "image/png": "[encoded data removed]"
          },
          "metadata": {}
        }
      ]
    }
  ],
  "metadata": {
    "language_info": {
      "name": "python"
    },
    "colab": {
      "provenance": []
    },
    "kernelspec": {
      "name": "python3",
      "display_name": "Python 3"
    }
  },
  "nbformat": 4,
  "nbformat_minor": 0
}